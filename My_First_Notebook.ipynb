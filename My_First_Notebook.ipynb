{
 "cells": [
  {
   "cell_type": "markdown",
   "id": "260592fe",
   "metadata": {},
   "source": [
    "The purpose of cells is to be used for different purposes within the code. For example this cell \"markdown\" is used for statements or to divide sections and label them. This is not to be confused with # statements which their purpose is for mini notes, and to explain certain parts of codes like their purposes. Code cells on the other hand are used for the purpose of coding. Well explained by the name it is where coders would impliment their code and execute it."
   ]
  },
  {
   "cell_type": "code",
   "execution_count": 1,
   "id": "45b1c065",
   "metadata": {},
   "outputs": [
    {
     "name": "stdout",
     "output_type": "stream",
     "text": [
      "Welcome to the code paradise\n"
     ]
    }
   ],
   "source": [
    "print(\"Welcome to the code paradise\")"
   ]
  },
  {
   "cell_type": "markdown",
   "id": "299cd8ec",
   "metadata": {},
   "source": [
    "This is my second markdown cell on this jupyter notebook."
   ]
  },
  {
   "cell_type": "code",
   "execution_count": null,
   "id": "395b2beb",
   "metadata": {},
   "outputs": [],
   "source": []
  }
 ],
 "metadata": {
  "kernelspec": {
   "display_name": "Python 3 (ipykernel)",
   "language": "python",
   "name": "python3"
  },
  "language_info": {
   "codemirror_mode": {
    "name": "ipython",
    "version": 3
   },
   "file_extension": ".py",
   "mimetype": "text/x-python",
   "name": "python",
   "nbconvert_exporter": "python",
   "pygments_lexer": "ipython3",
   "version": "3.11.4"
  }
 },
 "nbformat": 4,
 "nbformat_minor": 5
}
